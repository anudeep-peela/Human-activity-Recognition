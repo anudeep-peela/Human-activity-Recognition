{
 "cells": [
  {
   "cell_type": "code",
   "execution_count": 62,
   "metadata": {
    "_cell_guid": "b1076dfc-b9ad-4769-8c92-a6c4dae69d19",
    "_uuid": "8f2839f25d086af736a60e9eeb907d3b93b6e0e5"
   },
   "outputs": [],
   "source": [
    "import numpy as np\n",
    "import pandas as pd \n",
    "from scipy.spatial.distance import pdist, squareform \n",
    "import sklearn as sk\n",
    "import sklearn.metrics.pairwise\n",
    "import matplotlib.pyplot as plt\n",
    "import os\n",
    "import keras\n",
    "from keras.models import Sequential\n",
    "from keras.layers import Dense, Dropout, Activation, Flatten\n",
    "from keras.layers import Convolution2D, MaxPooling2D, LeakyReLU\n",
    "from keras import metrics\n",
    "from keras import backend as K\n",
    "import time\n",
    "from skimage.transform import resize\n",
    "\n",
    "from sklearn.model_selection import train_test_split\n",
    "from keras.utils import to_categorical\n",
    "from keras.utils import np_utils\n"
   ]
  },
  {
   "cell_type": "code",
   "execution_count": 2,
   "metadata": {
    "_cell_guid": "79c7e3d0-c299-4dcb-8224-4455121ee9b0",
    "_uuid": "d629ff2d2480ee46fbb7e2d37f6b5fab8052498a",
    "collapsed": true
   },
   "outputs": [],
   "source": [
    "def recurrence_plot(s, eps=None, steps=None):\n",
    "    if eps==None: eps=0.1\n",
    "    if steps==None: steps=10\n",
    "    d = sk.metrics.pairwise.pairwise_distances(s)\n",
    "    d = np.floor(d / eps)\n",
    "    d[d > steps] = steps\n",
    "    return d"
   ]
  },
  {
   "cell_type": "code",
   "execution_count": null,
   "metadata": {},
   "outputs": [],
   "source": [
    "#walking/jogging, standing/sitting, upstairs,downstairs are considered similar."
   ]
  },
  {
   "cell_type": "code",
   "execution_count": 1,
   "metadata": {
    "_uuid": "da5f88f32d1b17356c97bf7ce0607937f23465ee"
   },
   "outputs": [
    {
     "ename": "NameError",
     "evalue": "name 'np' is not defined",
     "output_type": "error",
     "traceback": [
      "\u001b[1;31m---------------------------------------------------------------------------\u001b[0m",
      "\u001b[1;31mNameError\u001b[0m                                 Traceback (most recent call last)",
      "\u001b[1;32m<ipython-input-1-2e09293549c6>\u001b[0m in \u001b[0;36m<module>\u001b[1;34m\u001b[0m\n\u001b[0;32m      6\u001b[0m                    \"sit_5\" : 2, \"sit_13\": 2}\n\u001b[0;32m      7\u001b[0m \u001b[1;33m\u001b[0m\u001b[0m\n\u001b[1;32m----> 8\u001b[1;33m \u001b[0mx_train\u001b[0m \u001b[1;33m=\u001b[0m \u001b[0mnp\u001b[0m\u001b[1;33m.\u001b[0m\u001b[0mzeros\u001b[0m\u001b[1;33m(\u001b[0m\u001b[1;33m(\u001b[0m\u001b[1;36m384\u001b[0m\u001b[1;33m,\u001b[0m\u001b[1;36m32\u001b[0m\u001b[1;33m,\u001b[0m\u001b[1;36m32\u001b[0m\u001b[1;33m)\u001b[0m\u001b[1;33m)\u001b[0m\u001b[1;33m\u001b[0m\u001b[1;33m\u001b[0m\u001b[0m\n\u001b[0m\u001b[0;32m      9\u001b[0m \u001b[0my_train\u001b[0m \u001b[1;33m=\u001b[0m \u001b[0mnp\u001b[0m\u001b[1;33m.\u001b[0m\u001b[0mzeros\u001b[0m\u001b[1;33m(\u001b[0m\u001b[1;36m384\u001b[0m\u001b[1;33m)\u001b[0m\u001b[1;33m\u001b[0m\u001b[1;33m\u001b[0m\u001b[0m\n\u001b[0;32m     10\u001b[0m \u001b[0mc\u001b[0m \u001b[1;33m=\u001b[0m \u001b[1;36m0\u001b[0m\u001b[1;33m\u001b[0m\u001b[1;33m\u001b[0m\u001b[0m\n",
      "\u001b[1;31mNameError\u001b[0m: name 'np' is not defined"
     ]
    }
   ],
   "source": [
    "class_translate = {\"dws_1\" : 0, \"dws_2\" : 0, \"dws_11\" : 0,  \\\n",
    "                   \"ups_3\" : 0, \"ups_4\" : 0, \"ups_12\" : 0, \\\n",
    "                   \"wlk_7\" : 1, \"wlk_8\" : 1, \"wlk_15\" : 1, \\\n",
    "                   \"jog_9\" : 1, \"jog_16\" : 1, \\\n",
    "                   \"std_6\" : 2, \"std_14\" : 2, \\\n",
    "                   \"sit_5\" : 2, \"sit_13\": 2}\n",
    "\n",
    "x_train = np.zeros((384,32,32))\n",
    "y_train = np.zeros(384)\n",
    "c = 0\n",
    "for i in class_translate.keys():    \n",
    "    for j in range(1,25):\n",
    "        dat = recurrence_plot(pd.read_csv(\"./data/\" + i +\"/\" + \"sub_\"+ str(j) + \".csv\")[cols].values, steps=100)\n",
    "        dat = resize(dat, (32,32),mode='constant')\n",
    "        x_train[c,:,:] = dat\n",
    "        y_train[c] = class_translate[i]\n",
    "        c = c + 1\n",
    "\n"
   ]
  },
  {
   "cell_type": "code",
   "execution_count": 55,
   "metadata": {
    "_uuid": "8dad30beca82ebecac44ebff418b146530bfea0c"
   },
   "outputs": [],
   "source": [
    "model = Sequential()\n",
    " \n",
    "model.add(Convolution2D(32, (3, 3), activation='relu', input_shape=(1,32,32), data_format='channels_first'))\n",
    "model.add(MaxPooling2D(pool_size=(2,2)))\n",
    "model.add(Dropout(0.25))\n",
    "model.add(Convolution2D(32, (3, 3),activation='relu'))\n",
    "model.add(MaxPooling2D(pool_size=(2,2)))\n",
    "model.add(Dropout(0.25)) \n",
    "model.add(Flatten())\n",
    "model.add(Dense(64, activation='relu'))\n",
    "#model.add(LeakyReLU(alpha=0.03))\n",
    "model.add(Dropout(0.5))\n",
    "model.add(Dense(3, activation='softmax'))\n",
    "\n",
    "model.compile(loss='categorical_crossentropy',\n",
    "              optimizer='adam',\n",
    "              metrics=['accuracy'])"
   ]
  },
  {
   "cell_type": "code",
   "execution_count": 16,
   "metadata": {
    "_uuid": "44261bb4d9a0e22846d82caa36a60b4bb5a99c0e"
   },
   "outputs": [],
   "source": [
    "\n",
    "X_train = x_train.reshape(x_train.shape[0], 1, 32,32)\n",
    "X_train = X_train.astype('float32')\n",
    "X_train /= np.amax(X_train)\n",
    "Y_train = np_utils.to_categorical(y_train, 3)\n",
    "X_train, x_test, Y_train, y_test = train_test_split(X_train, Y_train, test_size=0.1)"
   ]
  },
  {
   "cell_type": "code",
   "execution_count": 56,
   "metadata": {
    "_uuid": "1c97939f30bdc7aa815f957d706782deb088611b",
    "scrolled": true
   },
   "outputs": [],
   "source": [
    "model.fit(X_train, Y_train, epochs=200, batch_size=16,shuffle=True)\n"
   ]
  },
  {
   "cell_type": "code",
   "execution_count": 59,
   "metadata": {
    "_uuid": "6c01b53365486bf21ece7be8f7c7dceeef268790"
   },
   "outputs": [],
   "source": [
    "predictions= model.predict(x_test)\n",
    "rounded = [np.argmax(x) for x in predictions]\n",
    "print(K.eval(metrics.categorical_accuracy(y_test, np_utils.to_categorical(rounded, 3))))\n"
   ]
  }
 ],
 "metadata": {
  "kernelspec": {
   "display_name": "Python 3",
   "language": "python",
   "name": "python3"
  },
  "language_info": {
   "codemirror_mode": {
    "name": "ipython",
    "version": 3
   },
   "file_extension": ".py",
   "mimetype": "text/x-python",
   "name": "python",
   "nbconvert_exporter": "python",
   "pygments_lexer": "ipython3",
   "version": "3.7.4"
  }
 },
 "nbformat": 4,
 "nbformat_minor": 1
}
